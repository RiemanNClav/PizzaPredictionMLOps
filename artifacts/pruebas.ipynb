{
 "cells": [
  {
   "cell_type": "code",
   "execution_count": 1,
   "metadata": {},
   "outputs": [],
   "source": [
    "import pandas as pd \n",
    "import numpy as np\n",
    "\n",
    "from src.components.data_transformation import DataTransformation, DataCleaning\n"
   ]
  },
  {
   "cell_type": "code",
   "execution_count": 2,
   "metadata": {},
   "outputs": [],
   "source": [
    "train = pd.read_csv('train.csv')\n",
    "test = pd.read_csv('test.csv')"
   ]
  },
  {
   "cell_type": "code",
   "execution_count": 3,
   "metadata": {},
   "outputs": [],
   "source": [
    "cleaning = DataCleaning()\n",
    "train_data, test_data = cleaning.initiate_data_cleaning(train, test)\n",
    "\n"
   ]
  },
  {
   "cell_type": "code",
   "execution_count": 4,
   "metadata": {},
   "outputs": [],
   "source": [
    "data_transformation=DataTransformation()\n",
    "input_feature_train_arr = data_transformation.initiate_data_transformation(train_data,test_data)\n"
   ]
  },
  {
   "cell_type": "code",
   "execution_count": 5,
   "metadata": {},
   "outputs": [
    {
     "data": {
      "text/html": [
       "<div>\n",
       "<style scoped>\n",
       "    .dataframe tbody tr th:only-of-type {\n",
       "        vertical-align: middle;\n",
       "    }\n",
       "\n",
       "    .dataframe tbody tr th {\n",
       "        vertical-align: top;\n",
       "    }\n",
       "\n",
       "    .dataframe thead th {\n",
       "        text-align: right;\n",
       "    }\n",
       "</style>\n",
       "<table border=\"1\" class=\"dataframe\">\n",
       "  <thead>\n",
       "    <tr style=\"text-align: right;\">\n",
       "      <th></th>\n",
       "      <th>company</th>\n",
       "      <th>diameter</th>\n",
       "      <th>topping</th>\n",
       "      <th>variant</th>\n",
       "      <th>size</th>\n",
       "      <th>extra_sauce</th>\n",
       "      <th>extra_cheese</th>\n",
       "      <th>extra_mushrooms</th>\n",
       "    </tr>\n",
       "  </thead>\n",
       "  <tbody>\n",
       "    <tr>\n",
       "      <th>0</th>\n",
       "      <td>C</td>\n",
       "      <td>8.5</td>\n",
       "      <td>vegetables</td>\n",
       "      <td>thai_veggie</td>\n",
       "      <td>small</td>\n",
       "      <td>no</td>\n",
       "      <td>yes</td>\n",
       "      <td>yes</td>\n",
       "    </tr>\n",
       "    <tr>\n",
       "      <th>1</th>\n",
       "      <td>C</td>\n",
       "      <td>14.0</td>\n",
       "      <td>tuna</td>\n",
       "      <td>neptune_tuna</td>\n",
       "      <td>large</td>\n",
       "      <td>yes</td>\n",
       "      <td>yes</td>\n",
       "      <td>no</td>\n",
       "    </tr>\n",
       "    <tr>\n",
       "      <th>2</th>\n",
       "      <td>B</td>\n",
       "      <td>17.0</td>\n",
       "      <td>chicken</td>\n",
       "      <td>new_york</td>\n",
       "      <td>XL</td>\n",
       "      <td>no</td>\n",
       "      <td>yes</td>\n",
       "      <td>no</td>\n",
       "    </tr>\n",
       "    <tr>\n",
       "      <th>3</th>\n",
       "      <td>A</td>\n",
       "      <td>22.0</td>\n",
       "      <td>chicken</td>\n",
       "      <td>double_signature</td>\n",
       "      <td>jumbo</td>\n",
       "      <td>yes</td>\n",
       "      <td>yes</td>\n",
       "      <td>no</td>\n",
       "    </tr>\n",
       "    <tr>\n",
       "      <th>4</th>\n",
       "      <td>A</td>\n",
       "      <td>8.0</td>\n",
       "      <td>smoked_beef</td>\n",
       "      <td>super_supreme</td>\n",
       "      <td>reguler</td>\n",
       "      <td>yes</td>\n",
       "      <td>yes</td>\n",
       "      <td>no</td>\n",
       "    </tr>\n",
       "    <tr>\n",
       "      <th>...</th>\n",
       "      <td>...</td>\n",
       "      <td>...</td>\n",
       "      <td>...</td>\n",
       "      <td>...</td>\n",
       "      <td>...</td>\n",
       "      <td>...</td>\n",
       "      <td>...</td>\n",
       "      <td>...</td>\n",
       "    </tr>\n",
       "    <tr>\n",
       "      <th>98</th>\n",
       "      <td>E</td>\n",
       "      <td>8.5</td>\n",
       "      <td>mushrooms</td>\n",
       "      <td>classic</td>\n",
       "      <td>small</td>\n",
       "      <td>yes</td>\n",
       "      <td>yes</td>\n",
       "      <td>no</td>\n",
       "    </tr>\n",
       "    <tr>\n",
       "      <th>99</th>\n",
       "      <td>A</td>\n",
       "      <td>12.0</td>\n",
       "      <td>mozzarella</td>\n",
       "      <td>super_supreme</td>\n",
       "      <td>reguler</td>\n",
       "      <td>no</td>\n",
       "      <td>yes</td>\n",
       "      <td>no</td>\n",
       "    </tr>\n",
       "    <tr>\n",
       "      <th>100</th>\n",
       "      <td>D</td>\n",
       "      <td>12.0</td>\n",
       "      <td>mozzarella</td>\n",
       "      <td>crunchy</td>\n",
       "      <td>medium</td>\n",
       "      <td>no</td>\n",
       "      <td>no</td>\n",
       "      <td>yes</td>\n",
       "    </tr>\n",
       "    <tr>\n",
       "      <th>101</th>\n",
       "      <td>C</td>\n",
       "      <td>14.0</td>\n",
       "      <td>tuna</td>\n",
       "      <td>spicy_tuna</td>\n",
       "      <td>large</td>\n",
       "      <td>yes</td>\n",
       "      <td>yes</td>\n",
       "      <td>yes</td>\n",
       "    </tr>\n",
       "    <tr>\n",
       "      <th>102</th>\n",
       "      <td>E</td>\n",
       "      <td>14.0</td>\n",
       "      <td>smoked_beef</td>\n",
       "      <td>classic</td>\n",
       "      <td>large</td>\n",
       "      <td>yes</td>\n",
       "      <td>no</td>\n",
       "      <td>no</td>\n",
       "    </tr>\n",
       "  </tbody>\n",
       "</table>\n",
       "<p>103 rows × 8 columns</p>\n",
       "</div>"
      ],
      "text/plain": [
       "    company  diameter      topping           variant     size extra_sauce  \\\n",
       "0         C       8.5   vegetables       thai_veggie    small          no   \n",
       "1         C      14.0         tuna      neptune_tuna    large         yes   \n",
       "2         B      17.0      chicken          new_york       XL          no   \n",
       "3         A      22.0      chicken  double_signature    jumbo         yes   \n",
       "4         A       8.0  smoked_beef     super_supreme  reguler         yes   \n",
       "..      ...       ...          ...               ...      ...         ...   \n",
       "98        E       8.5    mushrooms           classic    small         yes   \n",
       "99        A      12.0   mozzarella     super_supreme  reguler          no   \n",
       "100       D      12.0   mozzarella           crunchy   medium          no   \n",
       "101       C      14.0         tuna        spicy_tuna    large         yes   \n",
       "102       E      14.0  smoked_beef           classic    large         yes   \n",
       "\n",
       "    extra_cheese extra_mushrooms  \n",
       "0            yes             yes  \n",
       "1            yes              no  \n",
       "2            yes              no  \n",
       "3            yes              no  \n",
       "4            yes              no  \n",
       "..           ...             ...  \n",
       "98           yes              no  \n",
       "99           yes              no  \n",
       "100           no             yes  \n",
       "101          yes             yes  \n",
       "102           no              no  \n",
       "\n",
       "[103 rows x 8 columns]"
      ]
     },
     "execution_count": 5,
     "metadata": {},
     "output_type": "execute_result"
    }
   ],
   "source": [
    "input_feature_train_df"
   ]
  },
  {
   "cell_type": "code",
   "execution_count": 6,
   "metadata": {},
   "outputs": [
    {
     "data": {
      "text/plain": [
       "0       39000\n",
       "1       92000\n",
       "2       83000\n",
       "3      235000\n",
       "4       70000\n",
       "        ...  \n",
       "98      31000\n",
       "99      90000\n",
       "100     49000\n",
       "101     99000\n",
       "102     72000\n",
       "Name: price, Length: 103, dtype: int32"
      ]
     },
     "execution_count": 6,
     "metadata": {},
     "output_type": "execute_result"
    }
   ],
   "source": [
    "target_feature_train_df"
   ]
  },
  {
   "cell_type": "code",
   "execution_count": 5,
   "metadata": {},
   "outputs": [
    {
     "data": {
      "text/plain": [
       "<103x50 sparse matrix of type '<class 'numpy.float64'>'\n",
       "\twith 824 stored elements in Compressed Sparse Row format>"
      ]
     },
     "execution_count": 5,
     "metadata": {},
     "output_type": "execute_result"
    }
   ],
   "source": [
    "input_feature_train_arr"
   ]
  },
  {
   "cell_type": "code",
   "execution_count": 6,
   "metadata": {},
   "outputs": [
    {
     "name": "stdout",
     "output_type": "stream",
     "text": [
      "  (0, 0)\t-1.4229919784013825\n",
      "  (0, 3)\t1.0\n",
      "  (0, 17)\t1.0\n",
      "  (0, 37)\t1.0\n",
      "  (0, 43)\t1.0\n",
      "  (0, 44)\t1.0\n",
      "  (0, 47)\t1.0\n",
      "  (0, 49)\t1.0\n",
      "  (1, 0)\t0.30688990092132795\n",
      "  (1, 3)\t1.0\n",
      "  (1, 16)\t1.0\n",
      "  (1, 32)\t1.0\n",
      "  (1, 40)\t1.0\n",
      "  (1, 45)\t1.0\n",
      "  (1, 47)\t1.0\n",
      "  (1, 48)\t1.0\n",
      "  (2, 0)\t1.2504618350973518\n",
      "  (2, 2)\t1.0\n",
      "  (2, 8)\t1.0\n",
      "  (2, 33)\t1.0\n",
      "  (2, 38)\t1.0\n",
      "  (2, 44)\t1.0\n",
      "  (2, 47)\t1.0\n",
      "  (2, 48)\t1.0\n",
      "  (3, 0)\t2.823081725390725\n",
      "  :\t:\n",
      "  (99, 48)\t1.0\n",
      "  (100, 0)\t-0.3221580551960213\n",
      "  (100, 4)\t1.0\n",
      "  (100, 10)\t1.0\n",
      "  (100, 23)\t1.0\n",
      "  (100, 41)\t1.0\n",
      "  (100, 44)\t1.0\n",
      "  (100, 46)\t1.0\n",
      "  (100, 49)\t1.0\n",
      "  (101, 0)\t0.30688990092132795\n",
      "  (101, 3)\t1.0\n",
      "  (101, 16)\t1.0\n",
      "  (101, 35)\t1.0\n",
      "  (101, 40)\t1.0\n",
      "  (101, 45)\t1.0\n",
      "  (101, 47)\t1.0\n",
      "  (101, 49)\t1.0\n",
      "  (102, 0)\t0.30688990092132795\n",
      "  (102, 5)\t1.0\n",
      "  (102, 15)\t1.0\n",
      "  (102, 22)\t1.0\n",
      "  (102, 40)\t1.0\n",
      "  (102, 45)\t1.0\n",
      "  (102, 46)\t1.0\n",
      "  (102, 48)\t1.0\n"
     ]
    }
   ],
   "source": [
    "print(input_feature_train_arr)"
   ]
  },
  {
   "cell_type": "code",
   "execution_count": null,
   "metadata": {},
   "outputs": [],
   "source": [
    "train_arr = np.c_[input_feature_train_arr, np.array(target_feature_train_df)]"
   ]
  }
 ],
 "metadata": {
  "kernelspec": {
   "display_name": "Python 3",
   "language": "python",
   "name": "python3"
  },
  "language_info": {
   "codemirror_mode": {
    "name": "ipython",
    "version": 3
   },
   "file_extension": ".py",
   "mimetype": "text/x-python",
   "name": "python",
   "nbconvert_exporter": "python",
   "pygments_lexer": "ipython3",
   "version": "3.8.0"
  }
 },
 "nbformat": 4,
 "nbformat_minor": 2
}
